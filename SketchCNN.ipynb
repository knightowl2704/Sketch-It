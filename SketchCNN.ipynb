{
  "nbformat": 4,
  "nbformat_minor": 0,
  "metadata": {
    "colab": {
      "name": "SketchCNN.ipynb",
      "provenance": [],
      "collapsed_sections": []
    },
    "kernelspec": {
      "name": "python3",
      "display_name": "Python 3"
    },
    "language_info": {
      "name": "python"
    },
    "accelerator": "GPU"
  },
  "cells": [
    {
      "cell_type": "code",
      "metadata": {
        "colab": {
          "base_uri": "https://localhost:8080/"
        },
        "id": "0sokbhJhBGCV",
        "outputId": "b213f589-f5eb-46bd-bf7a-9ded2622f776"
      },
      "source": [
        "%cd /content/drive/MyDrive/SketchData/"
      ],
      "execution_count": 1,
      "outputs": [
        {
          "output_type": "stream",
          "name": "stdout",
          "text": [
            "/content/drive/MyDrive/SketchData\n"
          ]
        }
      ]
    },
    {
      "cell_type": "code",
      "metadata": {
        "colab": {
          "base_uri": "https://localhost:8080/",
          "height": 36
        },
        "id": "Lw2cOj2LlMl0",
        "outputId": "0919b83d-7afd-4ac0-d5ca-70cc5d672e30"
      },
      "source": [
        "import tensorflow as tf\n",
        "tf.test.gpu_device_name()"
      ],
      "execution_count": 2,
      "outputs": [
        {
          "output_type": "execute_result",
          "data": {
            "application/vnd.google.colaboratory.intrinsic+json": {
              "type": "string"
            },
            "text/plain": [
              "'/device:GPU:0'"
            ]
          },
          "metadata": {},
          "execution_count": 2
        }
      ]
    },
    {
      "cell_type": "code",
      "metadata": {
        "colab": {
          "base_uri": "https://localhost:8080/"
        },
        "id": "wnvRCasVBJY2",
        "outputId": "2c11c786-3e9f-49f6-d907-72d2f6e0d3ec"
      },
      "source": [
        "%ls"
      ],
      "execution_count": 3,
      "outputs": [
        {
          "output_type": "stream",
          "name": "stdout",
          "text": [
            " full_numpy_bitmap_apple.npy        full_numpy_bitmap_hexagon.npy\n",
            " full_numpy_bitmap_banana.npy      'full_numpy_bitmap_ice cream.npy'\n",
            " full_numpy_bitmap_bee.npy          full_numpy_bitmap_mouse.npy\n",
            " full_numpy_bitmap_bus.npy          full_numpy_bitmap_owl.npy\n",
            " full_numpy_bitmap_cake.npy         full_numpy_bitmap_paintbrush.npy\n",
            " full_numpy_bitmap_clock.npy        full_numpy_bitmap_pineapple.npy\n",
            " full_numpy_bitmap_cup.npy          full_numpy_bitmap_postcard.npy\n",
            " full_numpy_bitmap_door.npy         full_numpy_bitmap_radio.npy\n",
            " full_numpy_bitmap_elephant.npy     full_numpy_bitmap_scissors.npy\n",
            " full_numpy_bitmap_eyeglasses.npy   full_numpy_bitmap_skull.npy\n",
            " full_numpy_bitmap_fish.npy         full_numpy_bitmap_snake.npy\n",
            " full_numpy_bitmap_flower.npy       full_numpy_bitmap_spoon.npy\n",
            " full_numpy_bitmap_guitar.npy       full_numpy_bitmap_strawberry.npy\n"
          ]
        }
      ]
    },
    {
      "cell_type": "code",
      "metadata": {
        "id": "WurJ_3UVBRo1"
      },
      "source": [
        "import os \n",
        "import numpy as np \n",
        "import matplotlib.pyplot as plt\n"
      ],
      "execution_count": 8,
      "outputs": []
    },
    {
      "cell_type": "code",
      "metadata": {
        "id": "k1l3IlZ3BWAA"
      },
      "source": [
        "apple = np.load('full_numpy_bitmap_apple.npy')"
      ],
      "execution_count": 9,
      "outputs": []
    },
    {
      "cell_type": "code",
      "metadata": {
        "colab": {
          "base_uri": "https://localhost:8080/"
        },
        "id": "7VA667XuBXGj",
        "outputId": "affa8e5b-c0d8-40c7-f3cb-d81b0fdc8ac3"
      },
      "source": [
        "apple.shape"
      ],
      "execution_count": 10,
      "outputs": [
        {
          "output_type": "execute_result",
          "data": {
            "text/plain": [
              "(144722, 784)"
            ]
          },
          "metadata": {},
          "execution_count": 10
        }
      ]
    },
    {
      "cell_type": "code",
      "metadata": {
        "colab": {
          "base_uri": "https://localhost:8080/",
          "height": 149
        },
        "id": "ickbVwTHCZp6",
        "outputId": "31360ad1-7086-4ee3-b567-fabab5063e3a"
      },
      "source": [
        "# Exploring the images \n",
        "%matplotlib inline\n",
        "plt.figure()\n",
        "plt.title('Apple')\n",
        "from numpy import save\n",
        "for i in range(1):\n",
        "  appleImg = np.reshape(apple[i], [28,28])\n",
        "  # print(appleImg)\n",
        "  plt.subplot(2,2,i+1)\n",
        "  plt.imshow(appleImg)\n",
        "  # save('1.npy', appleImg)"
      ],
      "execution_count": 11,
      "outputs": [
        {
          "output_type": "display_data",
          "data": {
            "image/png": "[encoded data removed]",
            "text/plain": [
              "<Figure size 432x288 with 1 Axes>"
            ]
          },
          "metadata": {
            "needs_background": "light"
          }
        }
      ]
    },
    {
      "cell_type": "code",
      "metadata": {
        "id": "agD_dLstCt4E"
      },
      "source": [
        ""
      ],
      "execution_count": null,
      "outputs": []
    },
    {
      "cell_type": "code",
      "metadata": {
        "id": "paqgdllhDCMG"
      },
      "source": [
        "# Get file names and create class labels from the filenames.\n",
        "\n",
        "file_names = (os.listdir())\n",
        "\n",
        "def get_classes(file_names):\n",
        "  '''Get class labels from the .npy data files in the directory'''\n",
        "  l = list(map(lambda x: (x.split('.')[0]).split('_')[-1], file_names))\n",
        "  return l "
      ],
      "execution_count": 12,
      "outputs": []
    },
    {
      "cell_type": "code",
      "metadata": {
        "id": "rA-1o0-wEXn-"
      },
      "source": [
        "def create_numeric_mappings(file_names):\n",
        "  '''\n",
        "     Creates numerical labels for the class names.\n",
        "\n",
        "        Parameters:\n",
        "            file_names: List of directory contents.\n",
        "          \n",
        "        Returns:\n",
        "            class_label_map (dict): class-name to numerical label mapping\n",
        "            rev_class_label_map (dict): numerical label to class-name mapping\n",
        "            file_name_label_map (dict): file_name to class_name mapping.\n",
        "         \n",
        "  '''\n",
        "  classes = get_classes(file_names)\n",
        "  class_label_map = dict()\n",
        "  rev_class_label_map = dict()\n",
        "\n",
        "  file_name_label_map = dict()\n",
        "\n",
        "  for i in range(len(file_names)):\n",
        "    class_label_map[classes[i]] = i \n",
        "    rev_class_label_map[i] = classes[i] \n",
        "    file_name_label_map[file_names[i]] = classes[i]\n",
        "  \n",
        "  return class_label_map, rev_class_label_map, file_name_label_map \n",
        "\n",
        "(class_label_map, rev_class_label_map, file_name_label_map) = create_numeric_mappings(file_names)"
      ],
      "execution_count": 13,
      "outputs": []
    },
    {
      "cell_type": "code",
      "metadata": {
        "id": "Nrp-t5o5EcuH"
      },
      "source": [
        "def load_as_images(filename):\n",
        "  '''\n",
        "    Creates a data set for each class with 5000 images from the huge collection.\n",
        "\n",
        "    Paramenters:\n",
        "      filename (str): File name of the class.\n",
        "    Returns:\n",
        "      image_data (np.array): 5000 images data rehaped in 28x28 np.array. \n",
        "      labels (list of strs): labels of the corresponding class.  \n",
        "  '''\n",
        "\n",
        "  data = np.load(filename)  \n",
        "  labels = []\n",
        "  image_data = []\n",
        "  for i in range(5000):\n",
        "    image_data.append(np.reshape(data[i], [28,28]))\n",
        "    l = file_name_label_map[filename]\n",
        "    labels.append(class_label_map[l])\n",
        "\n",
        "  return image_data, labels"
      ],
      "execution_count": 15,
      "outputs": []
    },
    {
      "cell_type": "code",
      "metadata": {
        "id": "ZYGMCTHWPW5g"
      },
      "source": [
        "# Concatenating all the image data for all the classes together. \n",
        "\n",
        "all_class_images_array = []\n",
        "y = []\n",
        "\n",
        "for filename in file_names:\n",
        "  # if filename == ():\n",
        "  #   continue\n",
        "  image_data, labels = load_as_images(filename)\n",
        "  all_class_images_array.append(image_data)\n",
        "  y.append(labels)\n"
      ],
      "execution_count": 16,
      "outputs": []
    },
    {
      "cell_type": "code",
      "metadata": {
        "colab": {
          "base_uri": "https://localhost:8080/"
        },
        "id": "8K97U3mKQnRO",
        "outputId": "034bca10-16c3-46eb-a02a-e685a451a044"
      },
      "source": [
        "all_class_images_array = np.asarray(all_class_images_array)\n",
        "all_class_images_array.shape"
      ],
      "execution_count": 17,
      "outputs": [
        {
          "output_type": "execute_result",
          "data": {
            "text/plain": [
              "(26, 5000, 28, 28)"
            ]
          },
          "metadata": {},
          "execution_count": 17
        }
      ]
    },
    {
      "cell_type": "code",
      "metadata": {
        "id": "51qkWd_OU6Ke"
      },
      "source": [
        "X = all_class_images_array\n",
        "y = np.asarray(y)"
      ],
      "execution_count": 18,
      "outputs": []
    },
    {
      "cell_type": "code",
      "metadata": {
        "colab": {
          "base_uri": "https://localhost:8080/"
        },
        "id": "D2BQPb5UFBFX",
        "outputId": "0b90e557-e20e-4439-89c7-44009db5a1bd"
      },
      "source": [
        "# 26 classes used, reshape the X and y accordingly. \n",
        "\n",
        "X = np.reshape(X, (5000 * 26 ,28,28))\n",
        "y = np.reshape(y, (5000 * 26))\n",
        "\n",
        "X.shape, y.shape\n"
      ],
      "execution_count": 19,
      "outputs": [
        {
          "output_type": "execute_result",
          "data": {
            "text/plain": [
              "((130000, 28, 28), (130000,))"
            ]
          },
          "metadata": {},
          "execution_count": 19
        }
      ]
    },
    {
      "cell_type": "code",
      "metadata": {
        "id": "EnjbVEfmWW4w"
      },
      "source": [
        ""
      ],
      "execution_count": null,
      "outputs": []
    },
    {
      "cell_type": "markdown",
      "metadata": {
        "id": "nuIcjFVFLD0q"
      },
      "source": [
        "# Model Architecture"
      ]
    },
    {
      "cell_type": "code",
      "metadata": {
        "id": "Uvpm6zFLHV9N"
      },
      "source": [
        "import keras\n",
        "import tensorflow as tf\n",
        "import matplotlib.pyplot as plt\n",
        "from keras.layers import Conv2D, Dense, Flatten, MaxPool2D\n",
        "from keras.models import Sequential, load_model\n",
        "from keras.preprocessing import image\n"
      ],
      "execution_count": 23,
      "outputs": []
    },
    {
      "cell_type": "code",
      "metadata": {
        "id": "i1v4gijrLoIQ",
        "colab": {
          "base_uri": "https://localhost:8080/"
        },
        "outputId": "b0ac1704-0055-4544-9fca-fee167101b94"
      },
      "source": [
        "# Shuffle and Split the dataset in train and test sets\n",
        "\n",
        "X_train, X_test, y_train, y_test = train_test_split(X,y,test_size = 0.3, shuffle = True)\n",
        "\n",
        "X_train.shape, X_test.shape"
      ],
      "execution_count": 21,
      "outputs": [
        {
          "output_type": "execute_result",
          "data": {
            "text/plain": [
              "((91000, 28, 28), (39000, 28, 28))"
            ]
          },
          "metadata": {},
          "execution_count": 21
        }
      ]
    },
    {
      "cell_type": "code",
      "metadata": {
        "colab": {
          "base_uri": "https://localhost:8080/",
          "height": 1000
        },
        "id": "zt9PHXf3W1JF",
        "outputId": "f761aff0-425c-4081-9c7f-3becf527efe0"
      },
      "source": [
        "# Checking if any labels went to wrong images \n",
        "import random \n",
        "\n",
        "for _ in range(0, 4):\n",
        "  i = random.randint(1, 91000)\n",
        "  plt.figure()\n",
        "  plt.title(rev_class_label_map[y_train[i]])\n",
        "  plt.imshow(X_train[i])"
      ],
      "execution_count": 39,
      "outputs": [
        {
          "output_type": "display_data",
          "data": {
            "image/png": "[encoded data removed]",
            "text/plain": [
              "<Figure size 432x288 with 1 Axes>"
            ]
          },
          "metadata": {
            "needs_background": "light"
          }
        },
        {
          "output_type": "display_data",
          "data": {
            "image/png": "[encoded data removed]",
            "text/plain": [
              "<Figure size 432x288 with 1 Axes>"
            ]
          },
          "metadata": {
            "needs_background": "light"
          }
        },
        {
          "output_type": "display_data",
          "data": {
            "image/png": "[encoded data removed]",
            "text/plain": [
              "<Figure size 432x288 with 1 Axes>"
            ]
          },
          "metadata": {
            "needs_background": "light"
          }
        },
        {
          "output_type": "display_data",
          "data": {
            "image/png": "[encoded data removed]",
            "text/plain": [
              "<Figure size 432x288 with 1 Axes>"
            ]
          },
          "metadata": {
            "needs_background": "light"
          }
        }
      ]
    },
    {
      "cell_type": "code",
      "metadata": {
        "id": "9CtmljOICntL"
      },
      "source": [
        "# Define network architecture\n",
        "\n",
        "model = Sequential()\n",
        "# Layer 1: Convolutional\n",
        "model.add(Conv2D(input_shape=(28, 28, 1), filters=64, kernel_size=(3, 3),\n",
        "                 padding='same', activation='relu'))\n",
        "# Layer 2: Convolutional\n",
        "model.add(Conv2D(filters=64, kernel_size=(3,3), padding='same', activation='relu'))\n",
        "# Layer 3: MaxPooling\n",
        "model.add(MaxPool2D(pool_size=(2, 2), strides=(2, 2)))\n",
        "\n",
        "# Layer 4: Convolutional\n",
        "model.add(Conv2D(filters=128, kernel_size=(3,3), padding='same', activation='relu'))\n",
        "# Layer 5: Convolutional\n",
        "model.add(Conv2D(filters=128, kernel_size=(3,3), padding='same', activation='relu'))\n",
        "# Layer 6: MaxPooling\n",
        "model.add(MaxPool2D(pool_size=(2, 2), strides=(2, 2)))\n",
        "# Layer 7: Flatten\n",
        "model.add(Flatten())\n",
        "# Layer 8: Fully Connected Layer\n",
        "model.add(Dense(units=1024, activation='relu'))\n",
        "# Layer 9: Dropout\n",
        "model.add(Dropout(0.6))\n",
        "# Layer 10: Fully Connected Layer\n",
        "model.add(Dense(units=512, activation='relu'))\n",
        "# Layer 11: Fully Connected Layer\n",
        "model.add(Dense(units=256, activation='relu'))\n",
        "# Layer 12: Softmax\n",
        "model.add(Dense(units=26, activation='softmax'))"
      ],
      "execution_count": 24,
      "outputs": []
    },
    {
      "cell_type": "code",
      "metadata": {
        "colab": {
          "base_uri": "https://localhost:8080/"
        },
        "id": "RYaBGWEpUwiH",
        "outputId": "4ef24b5b-d523-4d44-c029-9ca5c233918e"
      },
      "source": [
        "model.summary()"
      ],
      "execution_count": 25,
      "outputs": [
        {
          "output_type": "stream",
          "name": "stdout",
          "text": [
            "Model: \"sequential\"\n",
            "_________________________________________________________________\n",
            "Layer (type)                 Output Shape              Param #   \n",
            "=================================================================\n",
            "conv2d (Conv2D)              (None, 28, 28, 64)        640       \n",
            "_________________________________________________________________\n",
            "conv2d_1 (Conv2D)            (None, 28, 28, 64)        36928     \n",
            "_________________________________________________________________\n",
            "max_pooling2d (MaxPooling2D) (None, 14, 14, 64)        0         \n",
            "_________________________________________________________________\n",
            "conv2d_2 (Conv2D)            (None, 14, 14, 128)       73856     \n",
            "_________________________________________________________________\n",
            "conv2d_3 (Conv2D)            (None, 14, 14, 128)       147584    \n",
            "_________________________________________________________________\n",
            "max_pooling2d_1 (MaxPooling2 (None, 7, 7, 128)         0         \n",
            "_________________________________________________________________\n",
            "flatten (Flatten)            (None, 6272)              0         \n",
            "_________________________________________________________________\n",
            "dense (Dense)                (None, 1024)              6423552   \n",
            "_________________________________________________________________\n",
            "dropout (Dropout)            (None, 1024)              0         \n",
            "_________________________________________________________________\n",
            "dense_1 (Dense)              (None, 512)               524800    \n",
            "_________________________________________________________________\n",
            "dense_2 (Dense)              (None, 256)               131328    \n",
            "_________________________________________________________________\n",
            "dense_3 (Dense)              (None, 26)                6682      \n",
            "=================================================================\n",
            "Total params: 7,345,370\n",
            "Trainable params: 7,345,370\n",
            "Non-trainable params: 0\n",
            "_________________________________________________________________\n"
          ]
        }
      ]
    },
    {
      "cell_type": "code",
      "metadata": {
        "id": "wXBk_A65HjZj"
      },
      "source": [
        "# Define the loss functions. \n",
        "\n",
        "loss_fn = keras.losses.SparseCategoricalCrossentropy()\n",
        "\n",
        "model.compile(loss=loss_fn,\n",
        "              optimizer='adam',\n",
        "              metrics=['accuracy'])"
      ],
      "execution_count": 26,
      "outputs": []
    },
    {
      "cell_type": "code",
      "metadata": {
        "colab": {
          "base_uri": "https://localhost:8080/"
        },
        "id": "KlKkcVXyXDKa",
        "outputId": "65f6ba10-38b4-43b4-9cb0-e32b672b4849"
      },
      "source": [
        "# Save the model as a .h5 file \n",
        "\n",
        "history = model.fit(X_train.reshape(len(X_train),28,28,1), y_train, validation_data=(X_test.reshape(*X_test.shape,1),y_test), epochs = 5, batch_size=64)\n",
        "model.save('/content/drive/MyDrive/SketchModels/v6.h5')"
      ],
      "execution_count": null,
      "outputs": [
        {
          "output_type": "stream",
          "name": "stdout",
          "text": [
            "Epoch 1/5\n",
            "1422/1422 [==============================] - 36s 25ms/step - loss: 1.0874 - accuracy: 0.6954 - val_loss: 0.6141 - val_accuracy: 0.8291\n",
            "Epoch 2/5\n",
            "1422/1422 [==============================] - 35s 25ms/step - loss: 0.6279 - accuracy: 0.8242 - val_loss: 0.5015 - val_accuracy: 0.8617\n",
            "Epoch 3/5\n",
            "1422/1422 [==============================] - 35s 25ms/step - loss: 0.5299 - accuracy: 0.8526 - val_loss: 0.4768 - val_accuracy: 0.8712\n",
            "Epoch 4/5\n",
            "1422/1422 [==============================] - 36s 25ms/step - loss: 0.4698 - accuracy: 0.8696 - val_loss: 0.4403 - val_accuracy: 0.8807\n",
            "Epoch 5/5\n",
            "1422/1422 [==============================] - 36s 26ms/step - loss: 0.4251 - accuracy: 0.8817 - val_loss: 0.4498 - val_accuracy: 0.8775\n"
          ]
        }
      ]
    },
    {
      "cell_type": "code",
      "metadata": {
        "colab": {
          "base_uri": "https://localhost:8080/",
          "height": 284
        },
        "id": "teDAxbV1XOnT",
        "outputId": "f42f86d2-13cd-42f6-cd01-70ce0eaa40a8"
      },
      "source": [
        "history.history['loss']\n",
        "plt.plot(history.history['loss'])\n",
        "plt.plot(history.history['val_loss'])"
      ],
      "execution_count": null,
      "outputs": [
        {
          "output_type": "execute_result",
          "data": {
            "text/plain": [
              "[<matplotlib.lines.Line2D at 0x7f8258c84a50>]"
            ]
          },
          "metadata": {},
          "execution_count": 297
        },
        {
          "output_type": "display_data",
          "data": {
            "image/png": "[encoded data removed]",
            "text/plain": [
              "<Figure size 432x288 with 1 Axes>"
            ]
          },
          "metadata": {
            "needs_background": "light"
          }
        }
      ]
    },
    {
      "cell_type": "code",
      "metadata": {
        "id": "aIUuR4WaaE76"
      },
      "source": [
        ""
      ],
      "execution_count": null,
      "outputs": []
    },
    {
      "cell_type": "code",
      "metadata": {
        "colab": {
          "base_uri": "https://localhost:8080/"
        },
        "id": "kCIcYrewjmO5",
        "outputId": "196d38a0-ccbb-47f4-9806-823e0b4766bd"
      },
      "source": [
        "y_pred = model.predict(X_test.reshape((len(X_test),28,28,1)))\n",
        "# import numpy as np\n",
        "predict_class = np.argmax(y_pred, axis=1)\n",
        "predict_class"
      ],
      "execution_count": null,
      "outputs": [
        {
          "output_type": "execute_result",
          "data": {
            "text/plain": [
              "array([11, 25,  9, ...,  5, 16, 14])"
            ]
          },
          "metadata": {},
          "execution_count": 258
        }
      ]
    },
    {
      "cell_type": "code",
      "metadata": {
        "id": "OUWk0Ip5kDUe"
      },
      "source": [
        "\n",
        "from sklearn.metrics import confusion_matrix\n",
        "cm = confusion_matrix(y_test,predict_class)\n"
      ],
      "execution_count": null,
      "outputs": []
    },
    {
      "cell_type": "code",
      "metadata": {
        "colab": {
          "base_uri": "https://localhost:8080/",
          "height": 284
        },
        "id": "zdBgTL7SkQko",
        "outputId": "0c54ff5d-ddac-4acf-8e66-35d68da53195"
      },
      "source": [
        "import seaborn as sns \n",
        "sns.heatmap(cm)"
      ],
      "execution_count": null,
      "outputs": [
        {
          "output_type": "execute_result",
          "data": {
            "text/plain": [
              "<matplotlib.axes._subplots.AxesSubplot at 0x7f81cc4525d0>"
            ]
          },
          "metadata": {},
          "execution_count": 260
        },
        {
          "output_type": "display_data",
          "data": {
            "image/png": "[encoded data removed]",
            "text/plain": [
              "<Figure size 432x288 with 2 Axes>"
            ]
          },
          "metadata": {
            "needs_background": "light"
          }
        }
      ]
    },
    {
      "cell_type": "code",
      "metadata": {
        "id": "AX7rdbhbkSpF"
      },
      "source": [
        ""
      ],
      "execution_count": 26,
      "outputs": []
    },
    {
      "cell_type": "markdown",
      "metadata": {
        "id": "hkitp-gWojCX"
      },
      "source": [
        "<h1> Image Processing"
      ]
    },
    {
      "cell_type": "code",
      "metadata": {
        "id": "_06Y0Z-ukpG8"
      },
      "source": [
        "# base64 encoded image coming from the user-browser request. \n",
        "\n",
        "b64 = '''data:image/png;base64,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'''"
      ],
      "execution_count": 27,
      "outputs": []
    },
    {
      "cell_type": "code",
      "metadata": {
        "id": "gt0zZCMrxm3j"
      },
      "source": [
        "import cv2 \n",
        "import re, base64\n",
        "from PIL import Image\n",
        "from io import BytesIO\n",
        "import matplotlib.pyplot as plt "
      ],
      "execution_count": 28,
      "outputs": []
    },
    {
      "cell_type": "code",
      "metadata": {
        "colab": {
          "base_uri": "https://localhost:8080/",
          "height": 287
        },
        "id": "EmsWSNnCxsS6",
        "outputId": "bdc63425-bc24-4873-b623-b4f2625c3fd6"
      },
      "source": [
        "\n",
        "# Load image from BytesIO\n",
        "im = Image.open(BytesIO(base64.b64decode(re.search(r'base64,(.*)', b64).group(1))))\n",
        "\n",
        "# Display image\n",
        "plt.imshow(im)\n",
        "\n",
        "print(im)\n",
        "# im.save('result.png')"
      ],
      "execution_count": 29,
      "outputs": [
        {
          "output_type": "stream",
          "name": "stdout",
          "text": [
            "<PIL.PngImagePlugin.PngImageFile image mode=RGBA size=250x250 at 0x7F67666446D0>\n"
          ]
        },
        {
          "output_type": "display_data",
          "data": {
            "image/png": "[encoded data removed]",
            "text/plain": [
              "<Figure size 432x288 with 1 Axes>"
            ]
          },
          "metadata": {
            "needs_background": "light"
          }
        }
      ]
    },
    {
      "cell_type": "code",
      "metadata": {
        "colab": {
          "base_uri": "https://localhost:8080/",
          "height": 45
        },
        "id": "tZWHJ38lzA8D",
        "outputId": "a9fa0955-1830-48b7-b367-7f3851fbd37e"
      },
      "source": [
        "from google.colab.patches import cv2_imshow\n",
        "# cv2_imshow(imgarr)\n",
        "\n",
        "def performImageProcessing(PIL_image):\n",
        "  '''\n",
        "    Performs grayscaling, thresholding and then finds contours in the image \n",
        "    using OpenCV and then creates a bounding box around the doodle.\n",
        "\n",
        "    Parameters:\n",
        "      PIL_image (PIL Image): input image.\n",
        "    Returns:\n",
        "      img_resized (np.array): properly reshaped np.array.\n",
        "  '''\n",
        "  imgarr = np.array(PIL_image)\n",
        "\n",
        "\n",
        "  gray = cv2.cvtColor(imgarr, cv2.COLOR_BGR2GRAY)\n",
        "  # cv2_imshow(gray)\n",
        "  ret, binary = cv2.threshold(gray, 100, 255, \n",
        "    cv2.THRESH_OTSU)\n",
        "  # cv2_imshow(binary)\n",
        "  inverted_binary = ~binary\n",
        "\n",
        "  # cv2_imshow(inverted_binary)\n",
        "\n",
        "  contours, hierarchy = cv2.findContours(inverted_binary,\n",
        "    cv2.RETR_TREE,\n",
        "    cv2.CHAIN_APPROX_SIMPLE)\n",
        "\n",
        "  # first_contour = cv2.drawContours(imgarr, contours, 0,(255,0,255),3)\n",
        "  # cv2_imshow(contours[0])\n",
        "  for c in contours:\n",
        "    x, y, w, h = cv2.boundingRect(contours[0])\n",
        "    # first_contour = cv2.rectangle(first_contour,(x,y), (x+w+5,y+h+5), (255,150,0), 5)\n",
        "\n",
        "  imfinal = gray[y:y+h,x:x+w]\n",
        "  img_resized = cv2.resize(imfinal, (28, 28))\n",
        "  return img_resized\n",
        "\n",
        "new = performImageProcessing(im)\n",
        "\n",
        "cv2_imshow(new)"
      ],
      "execution_count": 30,
      "outputs": [
        {
          "output_type": "display_data",
          "data": {
            "image/png": "[encoded data removed]",
            "text/plain": [
              "<PIL.Image.Image image mode=L size=28x28 at 0x7F676658C950>"
            ]
          },
          "metadata": {}
        }
      ]
    },
    {
      "cell_type": "code",
      "metadata": {
        "id": "QcC51qe1zc3q",
        "colab": {
          "base_uri": "https://localhost:8080/",
          "height": 265
        },
        "outputId": "8c9f0123-eb57-40d1-b33e-b625d6c509a5"
      },
      "source": [
        "plt.imshow(new,  cmap='gray', vmin=0, vmax=255)\n",
        "new = np.array(new)\n"
      ],
      "execution_count": 34,
      "outputs": [
        {
          "output_type": "display_data",
          "data": {
            "image/png": "[encoded data removed]",
            "text/plain": [
              "<Figure size 432x288 with 1 Axes>"
            ]
          },
          "metadata": {
            "needs_background": "light"
          }
        }
      ]
    },
    {
      "cell_type": "markdown",
      "metadata": {
        "id": "K1VJ08USp3W2"
      },
      "source": [
        "<h1> Predictions on the saved model."
      ]
    },
    {
      "cell_type": "code",
      "metadata": {
        "id": "FGFVPHv62Acg"
      },
      "source": [
        "# Predictions on the model\n",
        "\n",
        "from tensorflow.keras.models import load_model\n",
        "\n",
        "# Load the relevant model\n",
        "\n",
        "model = load_model('/content/drive/MyDrive/SketchModels/v5.h5', compile = False)\n"
      ],
      "execution_count": 36,
      "outputs": []
    },
    {
      "cell_type": "code",
      "metadata": {
        "id": "Rvgh46qj2A6W"
      },
      "source": [
        "# Carry out predictions on the image. 255-new because the colourmap in image\n",
        "# needs to be inverted.\n",
        "\n",
        "preds = model.predict((255-new).reshape(1,28,28,1))\n",
        "predict_class = np.argmax(preds, axis=1)"
      ],
      "execution_count": 37,
      "outputs": []
    },
    {
      "cell_type": "code",
      "metadata": {
        "colab": {
          "base_uri": "https://localhost:8080/",
          "height": 36
        },
        "id": "5K5lq0_x36Cp",
        "outputId": "7e38603d-1c6a-486d-9640-6bafa743fb70"
      },
      "source": [
        "# Map the numerical label to the class name. \n",
        "\n",
        "rev_class_map[predict_class[0]]"
      ],
      "execution_count": 38,
      "outputs": [
        {
          "output_type": "execute_result",
          "data": {
            "application/vnd.google.colaboratory.intrinsic+json": {
              "type": "string"
            },
            "text/plain": [
              "'apple'"
            ]
          },
          "metadata": {},
          "execution_count": 38
        }
      ]
    },
    {
      "cell_type": "code",
      "metadata": {
        "id": "5HVAwdgQ4G_M"
      },
      "source": [
        ""
      ],
      "execution_count": 38,
      "outputs": []
    }
  ]
}